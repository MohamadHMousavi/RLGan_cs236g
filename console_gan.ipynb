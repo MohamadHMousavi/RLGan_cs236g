{
  "nbformat": 4,
  "nbformat_minor": 0,
  "metadata": {
    "colab": {
      "name": "Untitled5.ipynb",
      "provenance": [],
      "authorship_tag": "ABX9TyOfc4cCm+tq92q0xRwX/78N",
      "include_colab_link": true
    },
    "kernelspec": {
      "name": "python3",
      "display_name": "Python 3"
    },
    "accelerator": "GPU"
  },
  "cells": [
    {
      "cell_type": "markdown",
      "metadata": {
        "id": "view-in-github",
        "colab_type": "text"
      },
      "source": [
        "<a href=\"https://colab.research.google.com/github/MohamadHMousavi/RLGan_cs236g/blob/main/console_gan.ipynb\" target=\"_parent\"><img src=\"https://colab.research.google.com/assets/colab-badge.svg\" alt=\"Open In Colab\"/></a>"
      ]
    },
    {
      "cell_type": "code",
      "metadata": {
        "colab": {
          "base_uri": "https://localhost:8080/"
        },
        "id": "B3mrSmNcbG9q",
        "outputId": "87ccafcd-4a55-4b33-88fc-f317337f45c6"
      },
      "source": [
        "from google.colab import drive\r\n",
        "drive.mount('/content/drive', force_remount=True)"
      ],
      "execution_count": 1,
      "outputs": [
        {
          "output_type": "stream",
          "text": [
            "Mounted at /content/drive\n"
          ],
          "name": "stdout"
        }
      ]
    },
    {
      "cell_type": "code",
      "metadata": {
        "colab": {
          "base_uri": "https://localhost:8080/"
        },
        "id": "RYIY3abpbrCS",
        "outputId": "37f3d7fe-def6-4cd4-e0ce-011ed66f48e8"
      },
      "source": [
        "%cd /content/drive/MyDrive/DeepLearning/RLGAN"
      ],
      "execution_count": 1,
      "outputs": [
        {
          "output_type": "stream",
          "text": [
            "/content/drive/MyDrive/DeepLearning/RLGAN\n"
          ],
          "name": "stdout"
        }
      ]
    },
    {
      "cell_type": "code",
      "metadata": {
        "colab": {
          "base_uri": "https://localhost:8080/"
        },
        "id": "OogC7rg_b4V7",
        "outputId": "ddb34986-ba76-4ec3-d753-3132fa72f4ce"
      },
      "source": [
        "!git clone https://github.com/MohamadHMousavi/RLGan_cs236g"
      ],
      "execution_count": 3,
      "outputs": [
        {
          "output_type": "stream",
          "text": [
            "Cloning into 'RLGan_cs236g'...\n",
            "remote: Enumerating objects: 156, done.\u001b[K\n",
            "remote: Counting objects: 100% (156/156), done.\u001b[K\n",
            "remote: Compressing objects: 100% (109/109), done.\u001b[K\n",
            "remote: Total 156 (delta 68), reused 127 (delta 44), pack-reused 0\u001b[K\n",
            "Receiving objects: 100% (156/156), 35.38 MiB | 19.19 MiB/s, done.\n",
            "Resolving deltas: 100% (68/68), done.\n",
            "Checking out files: 100% (51/51), done.\n"
          ],
          "name": "stdout"
        }
      ]
    },
    {
      "cell_type": "code",
      "metadata": {
        "colab": {
          "base_uri": "https://localhost:8080/"
        },
        "id": "mJ9lSBPrcJIV",
        "outputId": "2deef401-83cf-4891-9611-f838cb62ed2e"
      },
      "source": [
        "%cd RLGan_cs236g/"
      ],
      "execution_count": 2,
      "outputs": [
        {
          "output_type": "stream",
          "text": [
            "/content/drive/MyDrive/DeepLearning/RLGAN/RLGan_cs236g\n"
          ],
          "name": "stdout"
        }
      ]
    },
    {
      "cell_type": "code",
      "metadata": {
        "colab": {
          "base_uri": "https://localhost:8080/"
        },
        "id": "UStIwxvncFwj",
        "outputId": "88fb23e6-513a-4e53-9e92-af9f273b92b8"
      },
      "source": [
        "!git fetch --all"
      ],
      "execution_count": 3,
      "outputs": [
        {
          "output_type": "stream",
          "text": [
            "Fetching origin\n"
          ],
          "name": "stdout"
        }
      ]
    },
    {
      "cell_type": "code",
      "metadata": {
        "colab": {
          "base_uri": "https://localhost:8080/"
        },
        "id": "e6oc6CcdcQKZ",
        "outputId": "713228a8-9b26-4b4e-d35b-f403160cbaa4"
      },
      "source": [
        "!pip install faiss-gpu"
      ],
      "execution_count": null,
      "outputs": [
        {
          "output_type": "stream",
          "text": [
            "Collecting faiss-gpu\n",
            "\u001b[?25l  Downloading https://files.pythonhosted.org/packages/5d/36/383911b8edf8c29cb7e9e8aee4e6b69b0f36c52237e3a06ce64a9551ef22/faiss_gpu-1.7.0-cp37-cp37m-manylinux2014_x86_64.whl (89.4MB)\n",
            "\u001b[K     |████████████████████████████████| 89.4MB 48kB/s \n",
            "\u001b[?25hInstalling collected packages: faiss-gpu\n",
            "Successfully installed faiss-gpu-1.7.0\n"
          ],
          "name": "stdout"
        }
      ]
    },
    {
      "cell_type": "code",
      "metadata": {
        "colab": {
          "base_uri": "https://localhost:8080/"
        },
        "id": "bBLNsoo8cZGJ",
        "outputId": "18c7fef2-7d0b-49c3-e66c-f29e7ba3281a"
      },
      "source": [
        "!sudo apt-get install libomp-dev"
      ],
      "execution_count": null,
      "outputs": [
        {
          "output_type": "stream",
          "text": [
            "Reading package lists... Done\n",
            "Building dependency tree       \n",
            "Reading state information... Done\n",
            "The following additional packages will be installed:\n",
            "  libomp5\n",
            "Suggested packages:\n",
            "  libomp-doc\n",
            "The following NEW packages will be installed:\n",
            "  libomp-dev libomp5\n",
            "0 upgraded, 2 newly installed, 0 to remove and 29 not upgraded.\n",
            "Need to get 239 kB of archives.\n",
            "After this operation, 804 kB of additional disk space will be used.\n",
            "Get:1 http://archive.ubuntu.com/ubuntu bionic/universe amd64 libomp5 amd64 5.0.1-1 [234 kB]\n",
            "Get:2 http://archive.ubuntu.com/ubuntu bionic/universe amd64 libomp-dev amd64 5.0.1-1 [5,088 B]\n",
            "Fetched 239 kB in 1s (225 kB/s)\n",
            "debconf: unable to initialize frontend: Dialog\n",
            "debconf: (No usable dialog-like program is installed, so the dialog based frontend cannot be used. at /usr/share/perl5/Debconf/FrontEnd/Dialog.pm line 76, <> line 2.)\n",
            "debconf: falling back to frontend: Readline\n",
            "debconf: unable to initialize frontend: Readline\n",
            "debconf: (This frontend requires a controlling tty.)\n",
            "debconf: falling back to frontend: Teletype\n",
            "dpkg-preconfigure: unable to re-open stdin: \n",
            "Selecting previously unselected package libomp5:amd64.\n",
            "(Reading database ... 160975 files and directories currently installed.)\n",
            "Preparing to unpack .../libomp5_5.0.1-1_amd64.deb ...\n",
            "Unpacking libomp5:amd64 (5.0.1-1) ...\n",
            "Selecting previously unselected package libomp-dev.\n",
            "Preparing to unpack .../libomp-dev_5.0.1-1_amd64.deb ...\n",
            "Unpacking libomp-dev (5.0.1-1) ...\n",
            "Setting up libomp5:amd64 (5.0.1-1) ...\n",
            "Setting up libomp-dev (5.0.1-1) ...\n",
            "Processing triggers for libc-bin (2.27-3ubuntu1.2) ...\n",
            "/sbin/ldconfig.real: /usr/local/lib/python3.7/dist-packages/ideep4py/lib/libmkldnn.so.0 is not a symbolic link\n",
            "\n"
          ],
          "name": "stdout"
        }
      ]
    },
    {
      "cell_type": "code",
      "metadata": {
        "id": "xUnZDaW4dKFT",
        "outputId": "4196ebbc-0653-4d95-bcae-802e26cd541a",
        "colab": {
          "base_uri": "https://localhost:8080/"
        }
      },
      "source": [
        "!python gan_main.py --batch_size 50 --model_save_step 1.0 --g_lr 0.00005 --d_lr 0.00005 --pretrained_num 7200 --sample_step 1000 --g_conv_dim 16 --d_conv_dim 16 --adv_loss hinge"
      ],
      "execution_count": null,
      "outputs": [
        {
          "output_type": "stream",
          "text": [
            "2021-03-05 17:59:56.403615: I tensorflow/stream_executor/platform/default/dso_loader.cc:49] Successfully opened dynamic library libcudart.so.11.0\n",
            "Generator(\n",
            "  (l1): Sequential(\n",
            "    (0): SpectralNorm(\n",
            "      (module): ConvTranspose2d(1, 64, kernel_size=(4, 4), stride=(1, 1))\n",
            "    )\n",
            "    (1): BatchNorm2d(64, eps=1e-05, momentum=0.1, affine=True, track_running_stats=True)\n",
            "    (2): ReLU()\n",
            "  )\n",
            "  (l2): Sequential(\n",
            "    (0): SpectralNorm(\n",
            "      (module): ConvTranspose2d(64, 32, kernel_size=(3, 3), stride=(2, 2), padding=(2, 2))\n",
            "    )\n",
            "    (1): BatchNorm2d(32, eps=1e-05, momentum=0.1, affine=True, track_running_stats=True)\n",
            "    (2): ReLU()\n",
            "  )\n",
            "  (l3): Sequential(\n",
            "    (0): SpectralNorm(\n",
            "      (module): ConvTranspose2d(32, 16, kernel_size=(3, 3), stride=(2, 2), padding=(2, 2))\n",
            "    )\n",
            "    (1): BatchNorm2d(16, eps=1e-05, momentum=0.1, affine=True, track_running_stats=True)\n",
            "    (2): ReLU()\n",
            "  )\n",
            "  (attn): Self_Attn(\n",
            "    (query_conv): Conv2d(16, 2, kernel_size=(1, 1), stride=(1, 1))\n",
            "    (key_conv): Conv2d(16, 2, kernel_size=(1, 1), stride=(1, 1))\n",
            "    (value_conv): Conv2d(16, 16, kernel_size=(1, 1), stride=(1, 1))\n",
            "    (softmax): Softmax(dim=-1)\n",
            "  )\n",
            "  (last): Sequential(\n",
            "    (0): ConvTranspose2d(16, 1, kernel_size=(2, 2), stride=(2, 2), padding=(1, 1))\n",
            "    (1): Tanh()\n",
            "  )\n",
            "  (input1d2d): ConvTranspose1d(144, 32, kernel_size=(1,), stride=(1,))\n",
            ")\n",
            "Discriminator(\n",
            "  (input1d2d): ConvTranspose1d(32, 144, kernel_size=(1,), stride=(1,))\n",
            "  (l1): Sequential(\n",
            "    (0): SpectralNorm(\n",
            "      (module): Conv2d(1, 16, kernel_size=(3, 3), stride=(2, 2), padding=(2, 2))\n",
            "    )\n",
            "    (1): LeakyReLU(negative_slope=0.1)\n",
            "  )\n",
            "  (l2): Sequential(\n",
            "    (0): SpectralNorm(\n",
            "      (module): Conv2d(16, 32, kernel_size=(3, 3), stride=(2, 2), padding=(2, 2))\n",
            "    )\n",
            "    (1): LeakyReLU(negative_slope=0.1)\n",
            "  )\n",
            "  (l3): Sequential(\n",
            "    (0): SpectralNorm(\n",
            "      (module): Conv2d(32, 64, kernel_size=(3, 3), stride=(2, 2), padding=(2, 2))\n",
            "    )\n",
            "    (1): LeakyReLU(negative_slope=0.1)\n",
            "  )\n",
            "  (attn): Self_Attn(\n",
            "    (query_conv): Conv2d(64, 8, kernel_size=(1, 1), stride=(1, 1))\n",
            "    (key_conv): Conv2d(64, 8, kernel_size=(1, 1), stride=(1, 1))\n",
            "    (value_conv): Conv2d(64, 64, kernel_size=(1, 1), stride=(1, 1))\n",
            "    (softmax): Softmax(dim=-1)\n",
            "  )\n",
            "  (last): Sequential(\n",
            "    (0): Conv2d(64, 1, kernel_size=(4, 4), stride=(1, 1))\n",
            "  )\n",
            ")\n",
            "loaded trained models (step: 7200)..!\n",
            "Elapsed [0:00:08.718809], G_step [7300/1000000], D_step[7300/1000000], d_out_real: 1.6938, d_out_fake: 0.2990, \n",
            "Elapsed [0:00:17.790692], G_step [7400/1000000], D_step[7400/1000000], d_out_real: 1.7143, d_out_fake: 0.2222, \n",
            "Elapsed [0:00:26.813459], G_step [7500/1000000], D_step[7500/1000000], d_out_real: 1.7441, d_out_fake: 0.2142, \n",
            "Elapsed [0:00:36.066633], G_step [7600/1000000], D_step[7600/1000000], d_out_real: 1.7913, d_out_fake: 0.1863, \n",
            "Elapsed [0:00:45.086473], G_step [7700/1000000], D_step[7700/1000000], d_out_real: 1.7895, d_out_fake: 0.1722, \n",
            "Elapsed [0:00:54.123924], G_step [7800/1000000], D_step[7800/1000000], d_out_real: 1.8318, d_out_fake: 0.1213, \n",
            "Elapsed [0:01:03.351097], G_step [7900/1000000], D_step[7900/1000000], d_out_real: 1.8895, d_out_fake: 0.1309, \n",
            "Elapsed [0:01:12.596206], G_step [8000/1000000], D_step[8000/1000000], d_out_real: 1.8132, d_out_fake: 0.1760, \n",
            "<Figure size 640x480 with 1 Axes>\n"
          ],
          "name": "stdout"
        }
      ]
    }
  ]
}