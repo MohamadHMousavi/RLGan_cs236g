{
  "nbformat": 4,
  "nbformat_minor": 0,
  "metadata": {
    "colab": {
      "name": "Untitled5.ipynb",
      "provenance": [],
      "authorship_tag": "ABX9TyOgmwS3tfOA3VggWmxNjssl",
      "include_colab_link": true
    },
    "kernelspec": {
      "name": "python3",
      "display_name": "Python 3"
    },
    "accelerator": "GPU"
  },
  "cells": [
    {
      "cell_type": "markdown",
      "metadata": {
        "id": "view-in-github",
        "colab_type": "text"
      },
      "source": [
        "<a href=\"https://colab.research.google.com/github/MohamadHMousavi/RLGan_cs236g/blob/main/console_gan.ipynb\" target=\"_parent\"><img src=\"https://colab.research.google.com/assets/colab-badge.svg\" alt=\"Open In Colab\"/></a>"
      ]
    },
    {
      "cell_type": "code",
      "metadata": {
        "colab": {
          "base_uri": "https://localhost:8080/"
        },
        "id": "B3mrSmNcbG9q",
        "outputId": "9e10113e-64fe-4a63-d612-744c01bbad5c"
      },
      "source": [
        "from google.colab import drive\r\n",
        "drive.mount('/content/drive', force_remount=True)"
      ],
      "execution_count": 1,
      "outputs": [
        {
          "output_type": "stream",
          "text": [
            "Mounted at /content/drive\n"
          ],
          "name": "stdout"
        }
      ]
    },
    {
      "cell_type": "code",
      "metadata": {
        "colab": {
          "base_uri": "https://localhost:8080/"
        },
        "id": "RYIY3abpbrCS",
        "outputId": "ce85b1a3-eabc-4727-fd6c-6cfe001cee28"
      },
      "source": [
        "%cd /content/drive/MyDrive/DeepLearning/RLGAN_test/"
      ],
      "execution_count": 1,
      "outputs": [
        {
          "output_type": "stream",
          "text": [
            "/content/drive/MyDrive/DeepLearning/RLGAN_test\n"
          ],
          "name": "stdout"
        }
      ]
    },
    {
      "cell_type": "code",
      "metadata": {
        "colab": {
          "base_uri": "https://localhost:8080/"
        },
        "id": "OogC7rg_b4V7",
        "outputId": "ddb34986-ba76-4ec3-d753-3132fa72f4ce"
      },
      "source": [
        "!git clone https://github.com/MohamadHMousavi/RLGan_cs236g"
      ],
      "execution_count": null,
      "outputs": [
        {
          "output_type": "stream",
          "text": [
            "Cloning into 'RLGan_cs236g'...\n",
            "remote: Enumerating objects: 156, done.\u001b[K\n",
            "remote: Counting objects: 100% (156/156), done.\u001b[K\n",
            "remote: Compressing objects: 100% (109/109), done.\u001b[K\n",
            "remote: Total 156 (delta 68), reused 127 (delta 44), pack-reused 0\u001b[K\n",
            "Receiving objects: 100% (156/156), 35.38 MiB | 19.19 MiB/s, done.\n",
            "Resolving deltas: 100% (68/68), done.\n",
            "Checking out files: 100% (51/51), done.\n"
          ],
          "name": "stdout"
        }
      ]
    },
    {
      "cell_type": "code",
      "metadata": {
        "colab": {
          "base_uri": "https://localhost:8080/"
        },
        "id": "mJ9lSBPrcJIV",
        "outputId": "61295a66-2b08-45c1-b00b-6379bd191ce4"
      },
      "source": [
        "%cd RLGan_cs236g/"
      ],
      "execution_count": 2,
      "outputs": [
        {
          "output_type": "stream",
          "text": [
            "/content/drive/MyDrive/DeepLearning/RLGAN_test/RLGan_cs236g\n"
          ],
          "name": "stdout"
        }
      ]
    },
    {
      "cell_type": "code",
      "metadata": {
        "id": "CNThI3PICOOU",
        "outputId": "0aef6d99-c74e-4eab-af1f-32f43fafd8a4",
        "colab": {
          "base_uri": "https://localhost:8080/"
        }
      },
      "source": [
        "!python gan_main.py --train False --pretrained_path './models/G.pth' --batch_size 10 --save_step 1.0 --g_conv_dim 16"
      ],
      "execution_count": 4,
      "outputs": [
        {
          "output_type": "stream",
          "text": [
            "Generator(\n",
            "  (l1): Sequential(\n",
            "    (0): SpectralNorm(\n",
            "      (module): ConvTranspose2d(1, 64, kernel_size=(4, 4), stride=(1, 1))\n",
            "    )\n",
            "    (1): BatchNorm2d(64, eps=1e-05, momentum=0.1, affine=True, track_running_stats=True)\n",
            "    (2): ReLU()\n",
            "  )\n",
            "  (l2): Sequential(\n",
            "    (0): SpectralNorm(\n",
            "      (module): ConvTranspose2d(64, 32, kernel_size=(3, 3), stride=(2, 2), padding=(2, 2))\n",
            "    )\n",
            "    (1): BatchNorm2d(32, eps=1e-05, momentum=0.1, affine=True, track_running_stats=True)\n",
            "    (2): ReLU()\n",
            "  )\n",
            "  (l3): Sequential(\n",
            "    (0): SpectralNorm(\n",
            "      (module): ConvTranspose2d(32, 16, kernel_size=(3, 3), stride=(2, 2), padding=(2, 2))\n",
            "    )\n",
            "    (1): BatchNorm2d(16, eps=1e-05, momentum=0.1, affine=True, track_running_stats=True)\n",
            "    (2): ReLU()\n",
            "  )\n",
            "  (attn): Self_Attn(\n",
            "    (query_conv): Conv2d(16, 2, kernel_size=(1, 1), stride=(1, 1))\n",
            "    (key_conv): Conv2d(16, 2, kernel_size=(1, 1), stride=(1, 1))\n",
            "    (value_conv): Conv2d(16, 16, kernel_size=(1, 1), stride=(1, 1))\n",
            "    (softmax): Softmax(dim=-1)\n",
            "  )\n",
            "  (last): Sequential(\n",
            "    (0): ConvTranspose2d(16, 1, kernel_size=(2, 2), stride=(2, 2), padding=(1, 1))\n",
            "    (1): Tanh()\n",
            "  )\n",
            "  (input1d2d): ConvTranspose1d(144, 32, kernel_size=(1,), stride=(1,))\n",
            ")\n",
            "loaded trained model\n",
            "<Figure size 640x480 with 1 Axes>\n",
            "<Figure size 640x480 with 1 Axes>\n",
            "<Figure size 640x480 with 1 Axes>\n",
            "<Figure size 640x480 with 1 Axes>\n",
            "<Figure size 640x480 with 1 Axes>\n",
            "<Figure size 640x480 with 1 Axes>\n",
            "<Figure size 640x480 with 1 Axes>\n",
            "<Figure size 640x480 with 1 Axes>\n",
            "<Figure size 640x480 with 1 Axes>\n",
            "<Figure size 640x480 with 1 Axes>\n"
          ],
          "name": "stdout"
        }
      ]
    },
    {
      "cell_type": "code",
      "metadata": {
        "id": "xUnZDaW4dKFT",
        "colab": {
          "base_uri": "https://localhost:8080/"
        },
        "outputId": "6fae1a6b-4ec8-4842-bd56-a32e13e41436"
      },
      "source": [
        "!python gan_main.py --batch_size 50 --save_step 1.0 --g_lr 0.00005 --d_lr 0.00005 --g_conv_dim 16 --d_conv_dim 16 --adv_loss hinge"
      ],
      "execution_count": null,
      "outputs": [
        {
          "output_type": "stream",
          "text": [
            "2021-03-08 21:46:29.805857: I tensorflow/stream_executor/platform/default/dso_loader.cc:49] Successfully opened dynamic library libcudart.so.11.0\n",
            "Generator(\n",
            "  (l1): Sequential(\n",
            "    (0): SpectralNorm(\n",
            "      (module): ConvTranspose2d(1, 64, kernel_size=(4, 4), stride=(1, 1))\n",
            "    )\n",
            "    (1): BatchNorm2d(64, eps=1e-05, momentum=0.1, affine=True, track_running_stats=True)\n",
            "    (2): ReLU()\n",
            "  )\n",
            "  (l2): Sequential(\n",
            "    (0): SpectralNorm(\n",
            "      (module): ConvTranspose2d(64, 32, kernel_size=(3, 3), stride=(2, 2), padding=(2, 2))\n",
            "    )\n",
            "    (1): BatchNorm2d(32, eps=1e-05, momentum=0.1, affine=True, track_running_stats=True)\n",
            "    (2): ReLU()\n",
            "  )\n",
            "  (l3): Sequential(\n",
            "    (0): SpectralNorm(\n",
            "      (module): ConvTranspose2d(32, 16, kernel_size=(3, 3), stride=(2, 2), padding=(2, 2))\n",
            "    )\n",
            "    (1): BatchNorm2d(16, eps=1e-05, momentum=0.1, affine=True, track_running_stats=True)\n",
            "    (2): ReLU()\n",
            "  )\n",
            "  (attn): Self_Attn(\n",
            "    (query_conv): Conv2d(16, 2, kernel_size=(1, 1), stride=(1, 1))\n",
            "    (key_conv): Conv2d(16, 2, kernel_size=(1, 1), stride=(1, 1))\n",
            "    (value_conv): Conv2d(16, 16, kernel_size=(1, 1), stride=(1, 1))\n",
            "    (softmax): Softmax(dim=-1)\n",
            "  )\n",
            "  (last): Sequential(\n",
            "    (0): ConvTranspose2d(16, 1, kernel_size=(2, 2), stride=(2, 2), padding=(1, 1))\n",
            "    (1): Tanh()\n",
            "  )\n",
            "  (input1d2d): ConvTranspose1d(144, 32, kernel_size=(1,), stride=(1,))\n",
            ")\n",
            "Discriminator(\n",
            "  (input1d2d): ConvTranspose1d(32, 144, kernel_size=(1,), stride=(1,))\n",
            "  (l1): Sequential(\n",
            "    (0): SpectralNorm(\n",
            "      (module): Conv2d(1, 16, kernel_size=(3, 3), stride=(2, 2), padding=(2, 2))\n",
            "    )\n",
            "    (1): LeakyReLU(negative_slope=0.1)\n",
            "  )\n",
            "  (l2): Sequential(\n",
            "    (0): SpectralNorm(\n",
            "      (module): Conv2d(16, 32, kernel_size=(3, 3), stride=(2, 2), padding=(2, 2))\n",
            "    )\n",
            "    (1): LeakyReLU(negative_slope=0.1)\n",
            "  )\n",
            "  (l3): Sequential(\n",
            "    (0): SpectralNorm(\n",
            "      (module): Conv2d(32, 64, kernel_size=(3, 3), stride=(2, 2), padding=(2, 2))\n",
            "    )\n",
            "    (1): LeakyReLU(negative_slope=0.1)\n",
            "  )\n",
            "  (attn): Self_Attn(\n",
            "    (query_conv): Conv2d(64, 8, kernel_size=(1, 1), stride=(1, 1))\n",
            "    (key_conv): Conv2d(64, 8, kernel_size=(1, 1), stride=(1, 1))\n",
            "    (value_conv): Conv2d(64, 64, kernel_size=(1, 1), stride=(1, 1))\n",
            "    (softmax): Softmax(dim=-1)\n",
            "  )\n",
            "  (last): Sequential(\n",
            "    (0): Conv2d(64, 1, kernel_size=(4, 4), stride=(1, 1))\n",
            "  )\n",
            ")\n",
            "Elapsed [0:00:08.196879], G_step [100/1000000], D_step[100/1000000], d_out_real: 0.9953, d_out_fake: 1.0002, \n",
            "Elapsed [0:00:15.831094], G_step [200/1000000], D_step[200/1000000], d_out_real: 0.9821, d_out_fake: 1.0106, \n",
            "Elapsed [0:00:23.976399], G_step [300/1000000], D_step[300/1000000], d_out_real: 0.9843, d_out_fake: 1.0005, \n",
            "Elapsed [0:00:31.428956], G_step [400/1000000], D_step[400/1000000], d_out_real: 0.9311, d_out_fake: 1.0542, \n",
            "Elapsed [0:00:39.470954], G_step [500/1000000], D_step[500/1000000], d_out_real: 0.9445, d_out_fake: 1.0435, \n",
            "Elapsed [0:00:47.132957], G_step [600/1000000], D_step[600/1000000], d_out_real: 0.8968, d_out_fake: 1.0792, \n",
            "Elapsed [0:00:55.410490], G_step [700/1000000], D_step[700/1000000], d_out_real: 0.9323, d_out_fake: 1.0470, \n",
            "Elapsed [0:01:03.018374], G_step [800/1000000], D_step[800/1000000], d_out_real: 0.9035, d_out_fake: 1.0781, \n",
            "Elapsed [0:01:10.566228], G_step [900/1000000], D_step[900/1000000], d_out_real: 0.9294, d_out_fake: 1.0412, \n",
            "Elapsed [0:01:18.446462], G_step [1000/1000000], D_step[1000/1000000], d_out_real: 0.8862, d_out_fake: 1.0988, \n",
            "Elapsed [0:01:25.786186], G_step [1100/1000000], D_step[1100/1000000], d_out_real: 0.8729, d_out_fake: 1.1313, \n",
            "Elapsed [0:01:33.221032], G_step [1200/1000000], D_step[1200/1000000], d_out_real: 0.8871, d_out_fake: 1.0985, \n",
            "<Figure size 640x480 with 1 Axes>\n",
            "Elapsed [0:01:41.415040], G_step [1300/1000000], D_step[1300/1000000], d_out_real: 0.8938, d_out_fake: 1.1101, \n",
            "Elapsed [0:01:49.031881], G_step [1400/1000000], D_step[1400/1000000], d_out_real: 0.9074, d_out_fake: 1.0730, \n",
            "Elapsed [0:01:56.864200], G_step [1500/1000000], D_step[1500/1000000], d_out_real: 0.8437, d_out_fake: 1.1398, \n",
            "Elapsed [0:02:04.965899], G_step [1600/1000000], D_step[1600/1000000], d_out_real: 0.9106, d_out_fake: 1.1018, \n",
            "Elapsed [0:02:12.671293], G_step [1700/1000000], D_step[1700/1000000], d_out_real: 0.9018, d_out_fake: 1.0846, \n",
            "Elapsed [0:02:20.512883], G_step [1800/1000000], D_step[1800/1000000], d_out_real: 0.8987, d_out_fake: 1.1067, \n",
            "Elapsed [0:02:28.013054], G_step [1900/1000000], D_step[1900/1000000], d_out_real: 0.9627, d_out_fake: 1.0381, \n",
            "Elapsed [0:02:35.853249], G_step [2000/1000000], D_step[2000/1000000], d_out_real: 0.9459, d_out_fake: 1.0604, \n",
            "Elapsed [0:02:43.831102], G_step [2100/1000000], D_step[2100/1000000], d_out_real: 0.8807, d_out_fake: 1.1347, \n"
          ],
          "name": "stdout"
        }
      ]
    }
  ]
}